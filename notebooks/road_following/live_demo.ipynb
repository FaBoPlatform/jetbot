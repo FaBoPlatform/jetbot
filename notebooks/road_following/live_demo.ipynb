{
 "cells": [
  {
   "cell_type": "markdown",
   "metadata": {},
   "source": [
    "# Road Following - Live demo(resnet18デモ)"
   ]
  },
  {
   "cell_type": "markdown",
   "metadata": {},
   "source": [
    "このノートブックでは、JetBotがコース上を走行することを確認できます。"
   ]
  },
  {
   "cell_type": "markdown",
   "metadata": {},
   "source": [
    "### Load Trained Model(学習済みモデルの読み込み)"
   ]
  },
  {
   "cell_type": "markdown",
   "metadata": {},
   "source": [
    "``train_model.ipynb``ノートブックの指示に従って、すでに``best_steering_model_xy.pth``を作成していることを想定します。"
   ]
  },
  {
   "cell_type": "markdown",
   "metadata": {},
   "source": [
    "PyTorchモデルを読み込んでJetBot用に変更します。これはトレーニング用のnotebookでもおなじみですね。"
   ]
  },
  {
   "cell_type": "code",
   "execution_count": null,
   "metadata": {},
   "outputs": [],
   "source": [
    "import torchvision\n",
    "import torch\n",
    "\n",
    "model = torchvision.models.resnet18(pretrained=False)\n",
    "model.fc = torch.nn.Linear(model.fc.in_features, 2)"
   ]
  },
  {
   "cell_type": "markdown",
   "metadata": {},
   "source": [
    "``train_model.ipynb``で学習した``best_steering_model_xy.pth``から学習の重みづけをロードします。"
   ]
  },
  {
   "cell_type": "code",
   "execution_count": null,
   "metadata": {},
   "outputs": [],
   "source": [
    "model.load_state_dict(torch.load('best_steering_model_xy.pth'))"
   ]
  },
  {
   "cell_type": "markdown",
   "metadata": {},
   "source": [
    "デフォルトではモデルのweightはCPUで処理されるため、GPUを利用するようにモデルを設定します。"
   ]
  },
  {
   "cell_type": "code",
   "execution_count": null,
   "metadata": {},
   "outputs": [],
   "source": [
    "print(\"before: {}\".format(model.fc.weight.type()))\n",
    "device = torch.device('cuda')\n",
    "model = model.to(device)\n",
    "model = model.eval().half()\n",
    "print(\"after: {}\".format(model.fc.weight.type()))"
   ]
  },
  {
   "cell_type": "markdown",
   "metadata": {},
   "source": [
    "### Creating the Pre-Processing Function(前処理作成)"
   ]
  },
  {
   "cell_type": "markdown",
   "metadata": {},
   "source": [
    "モデルを読み込みましたが、まだ少し問題があります。  \n",
    "学習時の入力画像フォーマットと、OpenCVのカメラ画像フォーマットは一致しません。  \n",
    "これを解消するために、 いくつかの前処理を行う必要があります。これらは、下記の手順になります。\n",
    "\n",
    "1. cudnnはHWC(Height x Width x Channel)をサポートしません。そのため画像(HWC layout)からTensor(CHW layout)に変換します。\n",
    "2. トレーニング中に使ったのと同じパラメーターを使用して正規化します。カメラから取得した画像データにはRGBの値があり、1ピクセルはRGBをそれぞれint型で[0、255]の範囲で表したものになります。モデルの入力に使う画像データのRGBはfloat型で[0.0、1.0]の範囲になるため、カメラ画像のRGBをそれぞれ255で割る必要があります。\n",
    "3. カメラ画像をGPUメモリに転送します。\n",
    "4. 入力画像データをバッチ配列に変更します。学習時に複数の画像を入力に持っているため、予測時にも1枚の画像であっても入力データは配列にする必要があります。"
   ]
  },
  {
   "cell_type": "code",
   "execution_count": null,
   "metadata": {},
   "outputs": [],
   "source": [
    "import torchvision.transforms as transforms\n",
    "import torch.nn.functional as F\n",
    "import cv2\n",
    "import PIL.Image\n",
    "import numpy as np\n",
    "\n",
    "# この値はpytorch ImageNetの学習に使われた正規化のパラメータです。\n",
    "# カメラ画像はこの値で正規化することが望ましいでしょう。\n",
    "mean = torch.Tensor([0.485, 0.456, 0.406]).cuda().half()\n",
    "std = torch.Tensor([0.229, 0.224, 0.225]).cuda().half()\n",
    "\n",
    "def preprocess(image):\n",
    "    image = PIL.Image.fromarray(image)\n",
    "    # torchvision.transforms.functional.to_tensor(image)はPIL画像をTensor形式に変換します。つまりHWCをCHWに変換します。\n",
    "    # これをto(device)でGPUメモリに転送とhalf()でfloat16に変換します。\n",
    "    image = transforms.functional.to_tensor(image).to(device).half()\n",
    "    # pytorch ImageNetのパラメータと同じ値を使って[0.0-1.0]の範囲に正規化します。\n",
    "    image.sub_(mean[:, None, None]).div_(std[:, None, None])\n",
    "    # バッチ配列化した画像データを返します。\n",
    "    return image[None, ...]"
   ]
  },
  {
   "cell_type": "markdown",
   "metadata": {},
   "source": [
    "すばらしい、これでカメラ画像をニューラルネットワークの入力フォーマットに変換するための、pre-processing関数を定義できました。　\n",
    "\n",
    "次はカメラを使うので、一度カメラ用のデーモンを再起動しておきます。"
   ]
  },
  {
   "cell_type": "code",
   "execution_count": null,
   "metadata": {},
   "outputs": [],
   "source": [
    "!echo jetbot | sudo -S systemctl restart nvargus-daemon"
   ]
  },
  {
   "cell_type": "markdown",
   "metadata": {},
   "source": [
    "カメラを起動し、画面に表示します。カメラの起動は、大分なれてきましたね。"
   ]
  },
  {
   "cell_type": "code",
   "execution_count": null,
   "metadata": {},
   "outputs": [],
   "source": [
    "from IPython.display import display\n",
    "import ipywidgets\n",
    "import traitlets\n",
    "from jetbot import Camera, bgr8_to_jpeg\n",
    "\n",
    "camera = Camera.instance(width=224, height=224, fps=21)\n",
    "\n",
    "image_widget = ipywidgets.Image()\n",
    "\n",
    "traitlets.dlink((camera, 'value'), (image_widget, 'value'), transform=bgr8_to_jpeg)\n",
    "\n",
    "display(image_widget)"
   ]
  },
  {
   "cell_type": "markdown",
   "metadata": {},
   "source": [
    "モーターの制御に必要なrobotインスタンスを生成します。"
   ]
  },
  {
   "cell_type": "code",
   "execution_count": null,
   "metadata": {},
   "outputs": [],
   "source": [
    "from jetbot import Robot\n",
    "\n",
    "robot = Robot()"
   ]
  },
  {
   "cell_type": "markdown",
   "metadata": {},
   "source": [
    " JetBotの動作パラメータを設定するためのsliderを作成します。\n",
    "> メモ: テスト時にうまく動作した値でスライダー値を初期化していますが、あなたのデータセットではうまく機能しない可能性があります。そのため、必要に応じてスライダーを増減してセットアップしてください。\n",
    "\n",
    "1. ``speed gain``：スピードコントローラー。この値を増やすとJetBotのモーター出力が増加します。\n",
    "2. ``steering gain``：ステアリングゲインコントローラー。JetBotが左右にブレて不安定な場合は、スムーズに走るようにこの値を減らす必要があります。\n",
    "3. ``steering dgain``：ステアリングディゲインコントローラー。JetBotが左右にブレて不安定な場合は、スムーズに走るようにこの値を増やす必要があります（元の角度を保つパラメータ）\n",
    "4. ``steering bias``：ステアリングバイアスコントローラー。JetBotがコースの右端または左端に偏って走行する場合は、JetBotが中央のラインまたはコースをたどるまでこのスライダーの値を調整します。ここでは、モーターバイアスと同様にカメラのoffsetも考慮します。\n",
    "\n",
    "> 注：JetBotの道路追従動作をスムーズにする必要するために、上記のスライダーを少しずつ調整します。"
   ]
  },
  {
   "cell_type": "code",
   "execution_count": null,
   "metadata": {},
   "outputs": [],
   "source": [
    "speed_gain_slider = ipywidgets.FloatSlider(min=0.0, max=1.0, step=0.01, value=0.3, description='speed gain')\n",
    "steering_gain_slider = ipywidgets.FloatSlider(min=0.0, max=1.0, step=0.01, value=0.2, description='steering gain')\n",
    "steering_dgain_slider = ipywidgets.FloatSlider(min=0.0, max=0.5, step=0.001, value=0.0, description='steering kd')\n",
    "steering_bias_slider = ipywidgets.FloatSlider(min=-0.3, max=0.3, step=0.01, value=0.0, description='steering bias')\n",
    "\n",
    "display(speed_gain_slider, steering_gain_slider, steering_dgain_slider, steering_bias_slider)"
   ]
  },
  {
   "cell_type": "markdown",
   "metadata": {},
   "source": [
    "次に、JetBotがどう判断しているかを表示するためにいくつかのsliderを画面に表示します。x, y sliderは、推論されたx, yの値が表示されます。\n",
    "\n",
    "``steering_slider``は推定したステアリング値が表示されます。この値はターゲットの実際の角度ではなく、ほぼ比例した単純な値です。  \n",
    "値が``0``の場合は真っ直ぐ進むことを意味します。"
   ]
  },
  {
   "cell_type": "code",
   "execution_count": null,
   "metadata": {},
   "outputs": [],
   "source": [
    "x_slider = ipywidgets.FloatSlider(min=-1.0, max=1.0, description='x')\n",
    "y_slider = ipywidgets.FloatSlider(min=0, max=1.0, orientation='vertical', description='y')\n",
    "steering_slider = ipywidgets.FloatSlider(min=-1.0, max=1.0, description='steering')\n",
    "speed_slider = ipywidgets.FloatSlider(min=0, max=1.0, orientation='vertical', description='speed')\n",
    "\n",
    "display(ipywidgets.HBox([y_slider, speed_slider]))\n",
    "display(x_slider, steering_slider)"
   ]
  },
  {
   "cell_type": "markdown",
   "metadata": {},
   "source": [
    "次は、カメラの画像が変わるたびに呼び出される関数を生成します。この関数は、下記ステップを実行します。\n",
    "\n",
    "1. カメラ画像をPre-processingにかけてモデル入力データに変換する\n",
    "2. モデル推論の実行\n",
    "3. ステアリング値を計算する\n",
    "4. 比例/微分制御（PD）を使用してモーターを制御する"
   ]
  },
  {
   "cell_type": "code",
   "execution_count": null,
   "metadata": {},
   "outputs": [],
   "source": [
    "angle = 0.0\n",
    "angle_last = 0.0\n",
    "\n",
    "def execute(change):\n",
    "    global angle, angle_last\n",
    "    image = change['new']\n",
    "    xy = model(preprocess(image)).detach().float().cpu().numpy().flatten()\n",
    "    x = xy[0]\n",
    "    y = (0.5 - xy[1]) / 2.0\n",
    "    \n",
    "    x_slider.value = x\n",
    "    y_slider.value = y\n",
    "    \n",
    "    speed_slider.value = speed_gain_slider.value\n",
    "    \n",
    "    angle = np.arctan2(x, y)\n",
    "    pid = angle * steering_gain_slider.value + (angle - angle_last) * steering_dgain_slider.value\n",
    "    angle_last = angle\n",
    "    \n",
    "    steering_slider.value = pid + steering_bias_slider.value\n",
    "    \n",
    "    robot.left_motor.value = max(min(speed_slider.value + steering_slider.value, 1.0), 0.0)\n",
    "    robot.right_motor.value = max(min(speed_slider.value - steering_slider.value, 1.0), 0.0)"
   ]
  },
  {
   "cell_type": "markdown",
   "metadata": {},
   "source": [
    "モデル推論からJetBotの動作までを実行する関数を作成しました。  \n",
    "今度はそれをカメラと連動して処理する必要があります。\n",
    "\n",
    "JetBotでは、traitletsライブラリをもちいてCameraクラスを実装することで実現しています。"
   ]
  },
  {
   "cell_type": "markdown",
   "metadata": {},
   "source": [
    "## JetBotを動かしてみよう\n",
    "次のコードで``start jetbot``ボタンと``stop jetbot``ボタンを作成します。  \n",
    "``start jetbot``ボタンを押すとモデルの初期化が実行され、JetBotが動作し始めます。  \n",
    "``speed gain``を0から少しずつ値を大きくし、前進させます。  \n",
    "``steering gain``でハンドルの切れ角を調整します。0に近いほど、切れ角がゆるくなります。  \n",
    "最初の1フレームの実行時にメモリの初期化が実行されるので、ディープラーニングではどんなモデルも最初の1フレームの処理はすこし時間がかかります。"
   ]
  },
  {
   "cell_type": "code",
   "execution_count": null,
   "metadata": {},
   "outputs": [],
   "source": [
    "import ipywidgets\n",
    "import time\n",
    "\n",
    "model_start_button = ipywidgets.Button(description='start jetbot')\n",
    "model_stop_button = ipywidgets.Button(description='stop jetbot')\n",
    "\n",
    "def start_model(c):\n",
    "    execute({'new': camera.value})\n",
    "    camera.observe(execute, names='value')\n",
    "model_start_button.on_click(start_model)\n",
    "    \n",
    "def stop_model(c):\n",
    "    camera.unobserve(execute, names='value')\n",
    "    time.sleep(1)\n",
    "    robot.stop()\n",
    "model_stop_button.on_click(stop_model)\n",
    "\n",
    "model_widget = ipywidgets.VBox([\n",
    "    ipywidgets.HBox([speed_gain_slider, steering_gain_slider]),\n",
    "    ipywidgets.HBox([image_widget]),\n",
    "    steering_slider,\n",
    "    ipywidgets.HBox([model_start_button, model_stop_button])\n",
    "])\n",
    "\n",
    "display(model_widget)"
   ]
  },
  {
   "cell_type": "markdown",
   "metadata": {},
   "source": [
    "やったね！JetBotが動作している場合、新しいカメラフレームごとに画像変換、モデル推論、JetBot制御処理が実行されています。\n",
    "\n",
    "あなたがデータセットを作ったコース上にJetBotを置いてください。そしてコース上を走行するかどうか確認してください。"
   ]
  },
  {
   "cell_type": "markdown",
   "metadata": {},
   "source": [
    "### Conclusion\n",
    "以上がライブデモです。今はJetBotがコース上を走行しているのではないでしょうか？　\n",
    "\n",
    "road followingが上手く行かない場合、正しく走行できるように失敗しやすい場所でさらにデータを追加してください。  \n",
    "このようにうまくいかない場所を中心にデータを収集すれば、JetBotはさらによく動作するはずです。"
   ]
  },
  {
   "cell_type": "markdown",
   "metadata": {},
   "source": [
    "## 次はTensorRTに変換してみましょう\n",
    "ResNet18モデルはTensorRTに変換することができます。  \n",
    "trtフォルダの中の``convert_to_trt.ipynb``を実行し、学習済みモデルをTensorRT形式に変換し、``live_demo_trt.ipynb``を実行し自動走行します。  \n",
    "ノートブックメニューから`Kernel`->`Restert Kernel`を選んでJupyter kernelを再起動するか、JetBotを一度再起動してから次に進むとスムーズに進行できます。\n",
    "\n",
    "[trt/convert_to_trt.ipynb](./trt/convert_to_trt.ipynb) をクリックし、移動します。"
   ]
  }
 ],
 "metadata": {
  "kernelspec": {
   "display_name": "Python 3",
   "language": "python",
   "name": "python3"
  },
  "language_info": {
   "codemirror_mode": {
    "name": "ipython",
    "version": 3
   },
   "file_extension": ".py",
   "mimetype": "text/x-python",
   "name": "python",
   "nbconvert_exporter": "python",
   "pygments_lexer": "ipython3",
   "version": "3.6.9"
  }
 },
 "nbformat": 4,
 "nbformat_minor": 4
}
