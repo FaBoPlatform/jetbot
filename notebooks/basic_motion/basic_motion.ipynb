{
 "cells": [
  {
   "cell_type": "markdown",
   "metadata": {},
   "source": [
    "# Basic Motion - JetBotの基本制御\n",
    "\n",
    "JetBotブラウザベースのプログラム実行環境へようこそ。テキストやソースコード、グラフィックの表示が1つにまとまった*Jupyter Notebook*です。*Jupyter*に馴染みがない人は、トップバーから、``Help``のドロップダウンメニューをクリックしてください。そこに、*Jupyer*上でプログラミングをするために役に立つリファレンスが記載されています。\n",
    "\n",
    "このノートブックは、JetBotの基本的な制御について説明します。\n",
    "\n",
    "### Importing the Robot class(Robotクラスをメモリに読み込む)\n",
    "\n",
    "JetBotのプログラミングを始めるにあたって、``Robot``クラスをImportします。[Robotクラス](https://github.com/NVIDIA-AI-IOT/jetbot/blob/master/jetbot/robot.py)はJetBotのモーター制御をおこなうためにPythonコードで実装したクラスになります。このクラスを取り込む事で、Robotのモーター制御を簡単におこなえます。``Robot``クラスは、``jetbot``パッケージに含まれています。\n",
    "\n",
    "``Robot``クラスをimportするために、セルを選択し、``ctrl + center``を入力するか``play``アイコンを選択します。これで、セルの中に含まれるコードが実行されます。"
   ]
  },
  {
   "cell_type": "code",
   "execution_count": null,
   "metadata": {},
   "outputs": [],
   "source": [
    "from jetbot import Robot"
   ]
  },
  {
   "cell_type": "markdown",
   "metadata": {},
   "source": [
    "これで、``Robot``クラスが読み込まれました。  \n",
    "クラスは、例外はありますが基本的にはそのままでは使えないため、**インスタンス化**することで利用可能になります。  \n",
    "次は下記のコードを実行して、クラスを**インスタンス化**して、`robot`変数としてクラスを扱えるようにします。"
   ]
  },
  {
   "cell_type": "code",
   "execution_count": null,
   "metadata": {},
   "outputs": [],
   "source": [
    "robot = Robot()"
   ]
  },
  {
   "cell_type": "markdown",
   "metadata": {},
   "source": [
    "### Commanding the robot(Robotをコマンドで制御)"
   ]
  },
  {
   "cell_type": "markdown",
   "metadata": {},
   "source": [
    "``Robot``インスタンスを作成し、`robot`という変数で名付けました。JetBotを制御するために、このインスタンスを使います。マックススピードの30%で反時計回りに回転させるために、下記のように変数を呼び出します。\n",
    "\n",
    "> 注意: 下記のコマンドで**ロボットが動きだします。**ロボットの周りにスペースがある事を確認してください。"
   ]
  },
  {
   "cell_type": "code",
   "execution_count": null,
   "metadata": {},
   "outputs": [],
   "source": [
    "robot.left(speed=0.3)"
   ]
  },
  {
   "cell_type": "markdown",
   "metadata": {},
   "source": [
    "すばらしい、あなたはロボットを反時計回りに回転できました。\n",
    "\n",
    "> もし、ロボットが左側に回転しなかったら、モーターの配線が逆になっているかもしれません。Robotの電源を落とし、間違っている側の``赤``と``黒``の配線の指し先を逆にしてみてください。\n",
    ">\n",
    "> ケーブルのチェックは常に気をつけてください。システムが起動中は、ケーブルの配線は変えないように！\n",
    "\n",
    "それでは、``stop``メソッドを呼び出し、ロボットを停止します。"
   ]
  },
  {
   "cell_type": "code",
   "execution_count": null,
   "metadata": {},
   "outputs": [],
   "source": [
    "robot.stop()"
   ]
  },
  {
   "cell_type": "markdown",
   "metadata": {},
   "source": [
    "少しだけ動かして止めたい場合は、Pythonの``time``パッケージを使用します。"
   ]
  },
  {
   "cell_type": "code",
   "execution_count": null,
   "metadata": {},
   "outputs": [],
   "source": [
    "import time"
   ]
  },
  {
   "cell_type": "markdown",
   "metadata": {},
   "source": [
    " このパッケージには、次のコマンドの実行まで、指定した秒数の間だけコード実行を止める事ができる``sleep``関数が定義されています。  \n",
    " 0.5秒の間だけ、JetBotを右回転させるために、下記コードを実行します。"
   ]
  },
  {
   "cell_type": "code",
   "execution_count": null,
   "metadata": {},
   "outputs": [],
   "source": [
    "robot.left(0.3) # 30%の出力で左に旋回する\n",
    "time.sleep(0.5) # 0.5秒間コードが次に進むことを止める\n",
    "robot.stop() # モーターを停止する"
   ]
  },
  {
   "cell_type": "markdown",
   "metadata": {},
   "source": [
    "すばらしい、これで、ちょっとの間、ロボットを左回転し、止める事ができるようになりましたね。\n",
    "\n",
    "> ``left``メソッドの引数の``speed=``はPythonでは省略が可能です。\n",
    "\n",
    "[Robot](https://github.com/NVIDIA-AI-IOT/jetbot/blob/master/jetbot/robot.py)クラスは、``right``や``forward``や``backward``メソッドを使用できます。1秒間、50%のスピードで前方に移動するために、新しいセルを作成しましょう。\n",
    "\n",
    "``b``キーを押すか、``+``アイコンを選択すると、下側に、セルが選択された状態の新しいセルが生成されます。セルが生成されたら、JetBotを1秒間 50%のスピードで前方に進ませるためのコードをタイプしてみましょう。"
   ]
  },
  {
   "cell_type": "markdown",
   "metadata": {},
   "source": [
    "### Controlling motors individually(モーターをそれぞれ制御する)\n",
    "\n",
    "ここまでは、``left``や``right``などのコマンドを使ってRobotを制御する方法をやってみました。  \n",
    "左右のモーターのSpeedをそれぞれ設定したら、どうなるでしょう？ それには、2つのやり方があります。\n",
    "\n",
    "1つめの方法は、``set_motors``メソッドを呼び出す方法です。例として、左30%、右60%にでモーターの値を設定し、2秒間ほど、左方向にアーチを描くように動かしてみます。"
   ]
  },
  {
   "cell_type": "code",
   "execution_count": null,
   "metadata": {},
   "outputs": [],
   "source": [
    "robot.set_motors(0.3, 0.6)\n",
    "time.sleep(1.0)\n",
    "robot.stop()"
   ]
  },
  {
   "cell_type": "markdown",
   "metadata": {},
   "source": [
    "すばらしい! 右方向にアーチを描くように動かせましたね、しかし、実際は、同じ事を達成するのに、違う方法をつかう事もできます。\n",
    "\n",
    "``Robot``クラスは、2つのそれぞれのモーターを形取る``left_motor``と``right_motor``という属性を持っています。これらの属性は、``Motor``クラスのインタンスで、それぞれに、``value``という属性を含んでいます。この``value``という属性は、新しい値がアサインされたときに、``events``が生成される[traitlet](https://github.com/ipython/traitlets)(https://github.com/ipython/traitlets) で定義されています。モータークラスの中で、値が変更されるとモーターコマンドがUpdateされる関数がアタッチされます。\n",
    "\n",
    "そのため、下記を実行すると、まったく同じ事が達成できます。下記を実行しましょう。"
   ]
  },
  {
   "cell_type": "code",
   "execution_count": null,
   "metadata": {},
   "outputs": [],
   "source": [
    "robot.left_motor.value = 0.3\n",
    "robot.right_motor.value = 0.6\n",
    "time.sleep(1.0)\n",
    "robot.left_motor.value = 0.0\n",
    "robot.right_motor.value = 0.0"
   ]
  },
  {
   "cell_type": "markdown",
   "metadata": {},
   "source": [
    "同じ方法で、ロボットを動かしていきましょう。"
   ]
  },
  {
   "cell_type": "markdown",
   "metadata": {},
   "source": [
    "### Link motors to traitlets(Traitletsにモーターを紐付ける)"
   ]
  },
  {
   "cell_type": "markdown",
   "metadata": {},
   "source": [
    "[traitlets](https://github.com/ipython/traitlets)の本当にいけている機能として、他のtraitletsに紐付けができる事にあります！  \n",
    "Jupyter Notebook内で、trailetsを使う事で、グラフィカルな``widgets``を作ることが可能になり、とても便利です。ブラウザからのコントロールする``widgets``とモーターを紐付けたり、値のビジュアルに紐付けたりが可能となります。\n",
    "\n",
    "何を言っているのかわからない？まずはやってみましょう。モーターをコントロール可能なスライダーを作成し、モーター制御と接続して表示します。"
   ]
  },
  {
   "cell_type": "code",
   "execution_count": null,
   "metadata": {},
   "outputs": [],
   "source": [
    "import ipywidgets.widgets as widgets\n",
    "import traitlets\n",
    "from IPython.display import display\n",
    "\n",
    "# 左右モーター用の垂直スライダーを、値の範囲 [-1.0, 1.0] で作成します。\n",
    "left_slider = widgets.FloatSlider(description='left', min=-1.0, max=1.0, step=0.01, orientation='vertical')\n",
    "right_slider = widgets.FloatSlider(description='right', min=-1.0, max=1.0, step=0.01, orientation='vertical')\n",
    "\n",
    "# スライダーとモーター制御を接続します\n",
    "left_link = traitlets.link((left_slider, 'value'), (robot.left_motor, 'value'))\n",
    "right_link = traitlets.link((right_slider, 'value'), (robot.right_motor, 'value'))\n",
    "\n",
    "# スライダーを隣り合わせに配置する水平ボックスコンテナーを作成します\n",
    "slider_container = widgets.HBox([left_slider, right_slider])\n",
    "\n",
    "# スライダーを配置したコンテナを表示します\n",
    "display(slider_container)"
   ]
  },
  {
   "cell_type": "markdown",
   "metadata": {},
   "source": [
    "スライダーを動かすと、それぞれのモーターが回転し始めます。\n",
    "\n",
    "実際に生成された``link``関数は、双方向リンクになっています。つまり、モーターの値を変更したら、スライダーの表示も変更されます。  \n",
    "`robot`インスタンスからモーターを動かして、実際にスライダーに反映されるところをみてみましょう。"
   ]
  },
  {
   "cell_type": "code",
   "execution_count": null,
   "metadata": {},
   "outputs": [],
   "source": [
    "robot.forward(0.3)\n",
    "time.sleep(1.0)\n",
    "robot.stop()"
   ]
  },
  {
   "cell_type": "markdown",
   "metadata": {},
   "source": [
    "もし、スライダーとモーター制御の接続を解除したい場合は、``unlink``メソッドを呼び出します。"
   ]
  },
  {
   "cell_type": "code",
   "execution_count": null,
   "metadata": {},
   "outputs": [],
   "source": [
    "left_link.unlink()\n",
    "right_link.unlink()"
   ]
  },
  {
   "cell_type": "markdown",
   "metadata": {},
   "source": [
    "次は、片方リンクにしたい場合の説明になります。  \n",
    "モーターの値を表示するためにスライダーを作る場合は、``dlink``関数を使います。左側が``source``で右側が``target``になります。　"
   ]
  },
  {
   "cell_type": "code",
   "execution_count": null,
   "metadata": {},
   "outputs": [],
   "source": [
    "left_link = traitlets.dlink((robot.left_motor, 'value'), (left_slider, 'value'))\n",
    "right_link = traitlets.dlink((robot.right_motor, 'value'), (right_slider, 'value'))"
   ]
  },
  {
   "cell_type": "markdown",
   "metadata": {},
   "source": [
    "スライダーを動かしてもモーターは反応しなくなりますが、モーターの値を変更すると、スライダーに反映されます。"
   ]
  },
  {
   "cell_type": "code",
   "execution_count": null,
   "metadata": {},
   "outputs": [],
   "source": [
    "robot.forward(0.3)\n",
    "time.sleep(1.0)\n",
    "robot.stop()"
   ]
  },
  {
   "cell_type": "markdown",
   "metadata": {},
   "source": [
    "### Attach functions to events(ボタンイベントと関数を紐付ける)\n",
    "\n",
    "traitletsを使とは違う方法として、関数をイベントに対応づける事も可能です。これらの関数は、objectが変更されるたびに、呼び出されます。``old``や``new``のように変化の情報も送られます。\n",
    "\n",
    "JetBotを操作するボタンを作成し、表示しましょう。"
   ]
  },
  {
   "cell_type": "code",
   "execution_count": null,
   "metadata": {},
   "outputs": [],
   "source": [
    "# create buttons\n",
    "button_layout = widgets.Layout(width='100px', height='80px', align_self='center')\n",
    "stop_button = widgets.Button(description='stop', button_style='danger', layout=button_layout)\n",
    "forward_button = widgets.Button(description='forward', layout=button_layout)\n",
    "backward_button = widgets.Button(description='backward', layout=button_layout)\n",
    "left_button = widgets.Button(description='left', layout=button_layout)\n",
    "right_button = widgets.Button(description='right', layout=button_layout)\n",
    "\n",
    "# display buttons\n",
    "middle_box = widgets.HBox([left_button, stop_button, right_button], layout=widgets.Layout(align_self='center'))\n",
    "controls_box = widgets.VBox([forward_button, middle_box, backward_button])\n",
    "display(controls_box)"
   ]
  },
  {
   "cell_type": "markdown",
   "metadata": {},
   "source": [
    "十字に配置されたボタンが表示されました。でも、まだ何も反応はしません。  \n",
    "ボタンの``on_click``イベントに関連するいくつかの関数を作成する必要があります。"
   ]
  },
  {
   "cell_type": "code",
   "execution_count": null,
   "metadata": {},
   "outputs": [],
   "source": [
    "def stop(change):\n",
    "    robot.stop()\n",
    "    \n",
    "def step_forward(change):\n",
    "    robot.forward(0.4)\n",
    "    time.sleep(0.5)\n",
    "    robot.stop()\n",
    "\n",
    "def step_backward(change):\n",
    "    robot.backward(0.4)\n",
    "    time.sleep(0.5)\n",
    "    robot.stop()\n",
    "\n",
    "def step_left(change):\n",
    "    robot.left(0.3)\n",
    "    time.sleep(0.5)\n",
    "    robot.stop()\n",
    "\n",
    "def step_right(change):\n",
    "    robot.right(0.3)\n",
    "    time.sleep(0.5)\n",
    "    robot.stop()"
   ]
  },
  {
   "cell_type": "markdown",
   "metadata": {},
   "source": [
    "これで関数が定義できました。こららの関数に、on-clickイベントでそれぞれのボタンを対応づけます。"
   ]
  },
  {
   "cell_type": "code",
   "execution_count": null,
   "metadata": {},
   "outputs": [],
   "source": [
    "# link buttons to actions\n",
    "stop_button.on_click(stop)\n",
    "forward_button.on_click(step_forward)\n",
    "backward_button.on_click(step_backward)\n",
    "left_button.on_click(step_left)\n",
    "right_button.on_click(step_right)"
   ]
  },
  {
   "cell_type": "markdown",
   "metadata": {},
   "source": [
    "これで、先ほど表示された十字ボタンをクリックすると、JetBotが動きます！  \n",
    "Jupyterでのプログラム実行に慣れてきたら、ボタンなどを表示するのは、機能を実装した後にした方がいいことに気がつくでしょう。なぜなら、今は動作確認のためにブラウザでスクロールする必要があるためです。  \n",
    "しかし、Jupyterではコードの出力画面を分離することができます。十字ボタンの所で**右クリックメニュー**を開いて、**Create New View for Output**を選択します。そうすると、ウィンドウを分割して十字ボタンを表示することができます。"
   ]
  },
  {
   "cell_type": "markdown",
   "metadata": {},
   "source": [
    "### Heartbeat Killswitch(通信不良時にJetBotを停止する)\n",
    "\n",
    "ここでは、PC(ブラウザ)とJetBotの通信が途切れてしまった時に、動いているJetBotを止めるための方法について説明します。  \n",
    "PCとJetBotの通信確認には[Heartbeat](https://github.com/NVIDIA-AI-IOT/jetbot/blob/master/jetbot/heartbeat.py)を使います。これは、JetBotとの通信が可能かどうかをシンプルに特定する方法です。  \n",
    "Heartbeatによる通信確認の間隔は、スライダーで操作できるようにします。  \n",
    "Heartbeatが通信不良と判断した場合は、Heartbeatの'`status`'属性が、``dead``にセットされます。通信が復元されるとすぐに、heartbeatの'`status`'属性が、``alive``に変わります。  \n",
    "下記では通信不良になった時に、`robot.stop()`を実行します。通信が復活した場合は何もしません。"
   ]
  },
  {
   "cell_type": "code",
   "execution_count": null,
   "metadata": {},
   "outputs": [],
   "source": [
    "from jetbot import Heartbeat\n",
    "\n",
    "heartbeat = Heartbeat()\n",
    "\n",
    "# this function will be called when heartbeat 'alive' status changes\n",
    "def handle_heartbeat_status(change):\n",
    "    if change['new'] == Heartbeat.Status.dead:\n",
    "        robot.stop()\n",
    "#   elif change['new'] == Heartbeat.Status.alive:\n",
    "#       robot.left(0.2)\n",
    "        \n",
    "heartbeat.observe(handle_heartbeat_status, names='status')\n",
    "\n",
    "period_slider = widgets.FloatSlider(description='period', min=0.001, max=0.5, step=0.01, value=0.5)\n",
    "traitlets.dlink((period_slider, 'value'), (heartbeat, 'period'))\n",
    "\n",
    "display(period_slider, heartbeat.pulseout)"
   ]
  },
  {
   "cell_type": "markdown",
   "metadata": {},
   "source": [
    "下記のコードを実行し、sliderを下げるとどうなるかみてみます。また、ロボットとPCを切断するとどうなるかみてみます。"
   ]
  },
  {
   "cell_type": "code",
   "execution_count": null,
   "metadata": {},
   "outputs": [],
   "source": [
    "robot.left(0.2) \n",
    "\n",
    "# now lower the `period` slider above until the network heartbeat can't be satisfied"
   ]
  },
  {
   "cell_type": "markdown",
   "metadata": {},
   "source": [
    "### Conclusion(結論)\n",
    "\n",
    "JetBotの基本制御の例は以上です。これで、プロブラムでJetBotを走らせることができると自信を持っていただければ幸いです。"
   ]
  }
 ],
 "metadata": {
  "kernelspec": {
   "display_name": "Python 3",
   "language": "python",
   "name": "python3"
  },
  "language_info": {
   "codemirror_mode": {
    "name": "ipython",
    "version": 3
   },
   "file_extension": ".py",
   "mimetype": "text/x-python",
   "name": "python",
   "nbconvert_exporter": "python",
   "pygments_lexer": "ipython3",
   "version": "3.6.9"
  }
 },
 "nbformat": 4,
 "nbformat_minor": 4
}
