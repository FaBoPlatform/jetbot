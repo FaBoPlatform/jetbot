{
 "cells": [
  {
   "cell_type": "markdown",
   "metadata": {},
   "source": [
    "# Collision Avoidance - Data Collection（データの収集)\n",
    "\n",
    "basic motionのノートブックを実行し、JetBotを簡単に動かすことができ、お楽しみいただけたのではないでしょうか？ それはとてもいい経験です。でも、もっとすごいのは、JetBotは、自律的に動き回る事ができることです。\n",
    "\n",
    "完全な自律走行はとてもハードなタスクで、この分野には多くの異なるアプローチが存在します。自律走行で直面する多くの問題は、より簡単で小さな問題に分割する事ができます。中でも最も重要で、解決すべき重要な問題は、ロボットが危険な状況に入るのを防ぐ事です。これを*collision avoidance*と呼びます。\n",
    "\n",
    "この章では、非常に用途が広く、単体で動作するセンサーであるカメラと、ディープラーニングを用いてこの問題を解決することを経験できます。ニューラルネットワーク、カメラ、およびNVIDIA Jetson Nanoを使用して、JetBotに障害物を回避させる方法を学ぶことができます。\n",
    "\n",
    "衝突を回避するためのアプローチは、JetBotの周りに仮想的な\"safety bubble\"を作り出す事でおこないます。\"safety bubble\"の中では、JetBotは、オブジェクトにぶつかることなく（または棚から落ちるなどのその他の危険な状況にならずに）円を描くように回転できます。\n",
    "\n",
    "もちろん、JetBotはカメラに写るものしか認識することができないため、背後などの障害物を回避することはできません。しかし、JetBotがこれらの回避不能なシナリオに入るのを防ぐことはできます。\n",
    "\n",
    "この方法は、実際やってみるととてもシンプルです。\n",
    "\n",
    "最初に、\"safety bubble\"に違反する場所、つまり旋回したい場所にJetBotを手動で移動します。そして、``blocked``のラベルをつけます。ラベルとともに、JetBotが見ている画像もsnapshotとして保存します。\n",
    "\n",
    "次に、JetBotを直進できる場所に手動で移動します。そして、``free``のラベルをつけます。同様に、ラベルとともにsnapshotを保存します。　\n",
    "\n",
    "この`data_collection.ipynb`では、このようにして`free`と`blocked`のデータを集めます。ラベルと画像をたくさん用意できれば、表示される画像に基づいてJetBotの\"safety bubble\"が侵害されているかどうかを正確に予測できるようになります。\n",
    "\n",
    "> 重要なメモ: Jetbotの旋回は、ロボット筐体の中心ではなく、2つのWheelの中心で回転します。これは、ロボットの\"safety bubble\"が侵害されているかどうかを推定する場合に、覚えておくべき重要事項です。正確である必要はないので、心配はしないでください。ぶつかりそうな場合は、より大きな\"safety bubble\"を想定してください。JetBotが狭い場所に入ってしまい、Uターン出来なくなるシナリオに入らないように注意します。"
   ]
  },
  {
   "cell_type": "markdown",
   "metadata": {},
   "source": [
    "本サンプルを実行するにあたり、まずnvargus-daemon(カメラ等で使用)をリスタートします。"
   ]
  },
  {
   "cell_type": "code",
   "execution_count": null,
   "metadata": {},
   "outputs": [],
   "source": [
    "!echo jetbot | sudo -S systemctl restart nvargus-daemon"
   ]
  },
  {
   "cell_type": "markdown",
   "metadata": {},
   "source": [
    "カメラの初期化と表示をおこないます。\n",
    "\n",
    "JetBotのカメラクラスは、CSI MIPI cameraを有効にするために使います。衝突回避に使うニューラルネットワークのモデルでは、224x224ピクセルの画像データを入力として使います。画像サイズが大きくなると、ニューラルネットワークモデルの学習や実行に必要とするメモリ量と処理時間が大幅に増えます。Jetson Nanoでは最適な値としてこのサイズを設定します。\n",
    "\n",
    "カメラ画像とカメラ画像にターゲットを追加したウィジェットを作成します。"
   ]
  },
  {
   "cell_type": "code",
   "execution_count": null,
   "metadata": {
    "scrolled": true
   },
   "outputs": [],
   "source": [
    "import traitlets\n",
    "import ipywidgets.widgets as widgets\n",
    "from IPython.display import display\n",
    "from jetbot import Camera, bgr8_to_jpeg\n",
    "\n",
    "camera = Camera.instance(width=224, height=224, fps=2)\n",
    "\n",
    "image = widgets.Image(format='jpeg', width=224, height=224)  # this width and height doesn't necessarily have to match the camera\n",
    "\n",
    "camera_link = traitlets.dlink((camera, 'value'), (image, 'value'), transform=bgr8_to_jpeg)"
   ]
  },
  {
   "cell_type": "markdown",
   "metadata": {},
   "source": [
    "次のコードを実行すると、カメラ映像を表示します。"
   ]
  },
  {
   "cell_type": "code",
   "execution_count": null,
   "metadata": {},
   "outputs": [],
   "source": [
    "display(image)"
   ]
  },
  {
   "cell_type": "markdown",
   "metadata": {},
   "source": [
    "次は、データを保存するためのディレクトリを作成しましょう。\\\n",
    "2つのサブフォルダ``free``と``blocked``を持つ、``dataset``フォルダを作成します。ここに、それぞれのシナリオ用の画像を置いていきます。"
   ]
  },
  {
   "cell_type": "code",
   "execution_count": null,
   "metadata": {},
   "outputs": [],
   "source": [
    "import os\n",
    "\n",
    "blocked_dir = 'dataset/blocked'\n",
    "free_dir = 'dataset/free'\n",
    "\n",
    "# we have this \"try/except\" statement because these next functions can throw an error if the directories exist already\n",
    "try:\n",
    "    os.makedirs(free_dir)\n",
    "    os.makedirs(blocked_dir)\n",
    "except FileExistsError:\n",
    "    print('Directories not created becasue they already exist')"
   ]
  },
  {
   "cell_type": "markdown",
   "metadata": {},
   "source": [
    "Jupyterの左側のファイルブラウザをリフレッシュすれば、これらのディレクトリが、新規で生成された事がわかります。\\\n",
    "次に、それぞれのクラスのラベルに対応したsnapshotを保存するためのボタンと、保存済みの各カテゴリの画像の数を表示するテキストボックスを用意します。"
   ]
  },
  {
   "cell_type": "code",
   "execution_count": null,
   "metadata": {},
   "outputs": [],
   "source": [
    "button_layout = widgets.Layout(width='128px', height='64px')\n",
    "free_button = widgets.Button(description='add free', button_style='success', layout=button_layout)\n",
    "blocked_button = widgets.Button(description='add blocked', button_style='danger', layout=button_layout)\n",
    "free_count = widgets.IntText(layout=button_layout, value=len(os.listdir(free_dir)))\n",
    "blocked_count = widgets.IntText(layout=button_layout, value=len(os.listdir(blocked_dir)))"
   ]
  },
  {
   "cell_type": "markdown",
   "metadata": {},
   "source": [
    "このボタンウィジェットは、クリックされた時に何を実行するのかまだ定義されていません。\\\n",
    "そこでボタンの``on_clock``イベントにそれぞれのカテゴリにイメージを保存する関数を対応づけます。\\\n",
    "`image = widgets.Image(format='jpeg', width=224, height=224)`で定義された`image`変数は`image.value`にJPEG形式の画像データを持っているので、それをjpgファイルとして保存します。\n",
    "\n",
    "(異なるマシン間でも) 同じファイル名にならないうようにPythonの``uuid``パッケージを使います。このユニークな識別子は、現在時刻とマシンなどの情報から生成されます。"
   ]
  },
  {
   "cell_type": "code",
   "execution_count": null,
   "metadata": {},
   "outputs": [],
   "source": [
    "from uuid import uuid1\n",
    "\n",
    "def save_snapshot(directory):\n",
    "    image_path = os.path.join(directory, str(uuid1()) + '.jpg')\n",
    "    with open(image_path, 'wb') as f:\n",
    "        f.write(image.value)\n",
    "\n",
    "def save_free():\n",
    "    global free_dir, free_count\n",
    "    save_snapshot(free_dir)\n",
    "    free_count.value = len(os.listdir(free_dir))\n",
    "    \n",
    "def save_blocked():\n",
    "    global blocked_dir, blocked_count\n",
    "    save_snapshot(blocked_dir)\n",
    "    blocked_count.value = len(os.listdir(blocked_dir))\n",
    "    \n",
    "# attach the callbacks, we use a 'lambda' function to ignore the\n",
    "# parameter that the on_click event would provide to our function\n",
    "# because we don't need it.\n",
    "free_button.on_click(lambda x: save_free())\n",
    "blocked_button.on_click(lambda x: save_blocked())"
   ]
  },
  {
   "cell_type": "markdown",
   "metadata": {},
   "source": [
    "# 操作ボタンを作成\n",
    "画像データを集めやすくするために、basic motionと同じようにボタン操作でJetBotを操作出来るように準備します。\\\n",
    "ボタンは後ほどカメラ画面と一緒に表示します。"
   ]
  },
  {
   "cell_type": "code",
   "execution_count": null,
   "metadata": {},
   "outputs": [],
   "source": [
    "import time\n",
    "from jetbot import Robot\n",
    "robot = Robot()\n",
    "\n",
    "def stop(change):\n",
    "    robot.stop()\n",
    "\n",
    "# カーペットの上だと旋回出来ないことがあるので、少し出力を上げます。\n",
    "def step_forward(change):\n",
    "    robot.forward(0.6)\n",
    "    time.sleep(0.3)\n",
    "    robot.stop()\n",
    "\n",
    "def step_backward(change):\n",
    "    robot.backward(0.6)\n",
    "    time.sleep(0.3)\n",
    "    robot.stop()\n",
    "\n",
    "def step_left(change):\n",
    "    robot.left(0.6)\n",
    "    time.sleep(0.1)\n",
    "    robot.stop()\n",
    "\n",
    "def step_right(change):\n",
    "    robot.right(0.6)\n",
    "    time.sleep(0.1)\n",
    "    robot.stop()\n",
    "\n",
    "# create control buttons\n",
    "button_layout = widgets.Layout(width='100px', height='80px', align_self='center')\n",
    "stop_button = widgets.Button(description='stop', button_style='danger', layout=button_layout)\n",
    "forward_button = widgets.Button(description='forward', layout=button_layout)\n",
    "backward_button = widgets.Button(description='backward', layout=button_layout)\n",
    "left_button = widgets.Button(description='left', layout=button_layout)\n",
    "right_button = widgets.Button(description='right', layout=button_layout)\n",
    "\n",
    "# link buttons to actions\n",
    "stop_button.on_click(stop)\n",
    "forward_button.on_click(step_forward)\n",
    "backward_button.on_click(step_backward)\n",
    "left_button.on_click(step_left)\n",
    "right_button.on_click(step_right)"
   ]
  },
  {
   "cell_type": "markdown",
   "metadata": {},
   "source": [
    "## 画面と操作ボタンを表示して始めよう\n",
    "次のコードを実行すると、画面とボタンが表示されます。\n",
    "1. 旋回したい場所にJetBotを起き``add blocked``を押します。\n",
    "2. 直進できる場所にJetBotを起き``add free``を押します。\n",
    "3. 1, 2の作業を繰り返します。\n",
    "\n",
    "ラベル付けのためにいくつかのTipsがあります。\n",
    "\n",
    "1. さまざまな場所、角度での試行\n",
    "2. 異なる照明、環境での試行\n",
    "3. さまざまな壁、棚、人の足、ダンボールなどの障害物での試行\n",
    "4. 異なる床の模様やパターン、なめらかさや、ガラスなどでの試行\n",
    "5. データ件数はかたよりすぎないようにバランスをとる\n",
    "\n",
    "> 最終的に、JetBotが現実の世界で遭遇するシナリオのデータが多いほど、衝突回避の挙動は正確になります。\n",
    "大量のデータだけでなく、（上記のヒントで説明したような）*さまざまな*データを取得する事が重要で、各クラスの画像が少なくとも100枚以上、必要になります。\n",
    "\n",
    "`blocked`と`free`のどちらか一方にデータがかたより過ぎると、学習時にデータ件数が多い方だけを覚えてしまいます（片方だけを予測した方が精度がよくなってしまうため）。どちらも100枚程度のデータがあればうまく学習できると思います。"
   ]
  },
  {
   "cell_type": "code",
   "execution_count": null,
   "metadata": {},
   "outputs": [],
   "source": [
    "# control buttons\n",
    "middle_box = widgets.HBox([left_button, stop_button, right_button], layout=widgets.Layout(align_self='center'))\n",
    "controls_box = widgets.VBox([forward_button, middle_box, backward_button])\n",
    "\n",
    "display(widgets.HBox([\n",
    "    widgets.VBox([\n",
    "        image,\n",
    "        widgets.HBox([free_count, free_button]),\n",
    "        widgets.HBox([blocked_count, blocked_button])\n",
    "        ]),\n",
    "    # display buttons\n",
    "    widgets.VBox([\n",
    "        controls_box\n",
    "    ])\n",
    "]))"
   ]
  },
  {
   "cell_type": "markdown",
   "metadata": {},
   "source": [
    "## Next(次)"
   ]
  },
  {
   "cell_type": "markdown",
   "metadata": {},
   "source": [
    "次は、``train_model.ipynb``で学習をおこないます。\\\n",
    "ノートブックメニューから`Kernel`->`Restert Kernel`を選んでJupyter kernelを再起動するか、JetBotを一度再起動してから次に進むとスムーズに進行できます。"
   ]
  }
 ],
 "metadata": {
  "kernelspec": {
   "display_name": "Python 3",
   "language": "python",
   "name": "python3"
  },
  "language_info": {
   "codemirror_mode": {
    "name": "ipython",
    "version": 3
   },
   "file_extension": ".py",
   "mimetype": "text/x-python",
   "name": "python",
   "nbconvert_exporter": "python",
   "pygments_lexer": "ipython3",
   "version": "3.6.9"
  }
 },
 "nbformat": 4,
 "nbformat_minor": 4
}
