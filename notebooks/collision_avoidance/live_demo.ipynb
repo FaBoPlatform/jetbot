{
 "cells": [
  {
   "cell_type": "markdown",
   "metadata": {},
   "source": [
    "# Collision Avoidance - Live Demo(AlexNetデモ)\n",
    "\n",
    "このnotebookでは、JetBotが「free（直進する）」か「blocked（旋回する）」かを検出する学習済みモデルを使用して、JetBotの衝突回避動作を確認できます。\n",
    "\n",
    "## Load the trained model(学習済みモデルの読み込み)\n",
    "\n",
    "``train_model.ipynb``ノートブックの指示に従って、すでに``best_model.pth``が存在している事を前提とします。\n",
    "\n",
    "Pytorch modelの初期化を下記コードでおこないます。"
   ]
  },
  {
   "cell_type": "code",
   "execution_count": null,
   "metadata": {},
   "outputs": [],
   "source": [
    "import torch\n",
    "import torchvision\n",
    "\n",
    "model = torchvision.models.alexnet(pretrained=False)\n",
    "model.classifier[6] = torch.nn.Linear(model.classifier[6].in_features, 2)"
   ]
  },
  {
   "cell_type": "markdown",
   "metadata": {},
   "source": [
    "``train_model.ipynb``で学習した``best_model.pth``から学習の重みづけをロードします。"
   ]
  },
  {
   "cell_type": "code",
   "execution_count": null,
   "metadata": {},
   "outputs": [],
   "source": [
    "model.load_state_dict(torch.load('best_model.pth'))"
   ]
  },
  {
   "cell_type": "markdown",
   "metadata": {},
   "source": [
    "デフォルトではモデルのweightはCPUで処理されるため、GPUを利用するようにモデルを設定します。"
   ]
  },
  {
   "cell_type": "code",
   "execution_count": null,
   "metadata": {},
   "outputs": [],
   "source": [
    "print(\"before: {}\".format(model.classifier[6].weight.type()))\n",
    "device = torch.device('cuda')\n",
    "model = model.to(device)\n",
    "print(\"after: {}\".format(model.classifier[6].weight.type()))"
   ]
  },
  {
   "cell_type": "markdown",
   "metadata": {},
   "source": [
    "モデルを読み込みましたが、まだ少し問題があります。  \n",
    "学習時の入力画像フォーマットと、OpenCVのカメラ画像フォーマットは一致しません。  \n",
    "これを解消するために、 いくつかの前処理を行う必要があります。これらは、下記の手順になります。\n",
    "\n",
    "1. cudnnはHWC(Height x Width x Channel)をサポートしません。そのため画像(HWC layout)からTensor(CHW layout)に変換します。\n",
    "2. トレーニング中に使ったのと同じパラメーターを使用して正規化します。カメラから取得した画像データにはRGBの値があり、1ピクセルはRGBをそれぞれint型で[0、255]の範囲で表したものになります。モデルの入力に使う画像データのRGBはfloat型で[0.0、1.0]の範囲になるため、カメラ画像のRGBをそれぞれ255で割る必要があります。\n",
    "3. カメラ画像をGPUメモリに転送します。\n",
    "4. 入力画像データをバッチ配列に変更します。学習時に複数の画像を入力に持っているため、予測時にも1枚の画像であっても入力データは配列にする必要があります。"
   ]
  },
  {
   "cell_type": "code",
   "execution_count": null,
   "metadata": {},
   "outputs": [],
   "source": [
    "import cv2\n",
    "import numpy as np\n",
    "\n",
    "# この値はpytorch ImageNetの学習に使われた正規化のパラメータです。\n",
    "# カメラ画像はこの値で正規化することが望ましいでしょう。\n",
    "mean = 255.0 * np.array([0.485, 0.456, 0.406])\n",
    "stdev = 255.0 * np.array([0.229, 0.224, 0.225])\n",
    "\n",
    "normalize = torchvision.transforms.Normalize(mean, stdev)\n",
    "\n",
    "def preprocess(camera_value):\n",
    "    x = camera_value\n",
    "    # 学習時の画像データはtorchvision.datasets.ImageFolderを使って読み込んでいるため、モデルはRGBフォーマットの画像で学習しています。\n",
    "    # カメラ映像はOpenCVで読み込んでいるため、OpenCV標準のBGRフォーマットをRGBフォーマットに変換します。\n",
    "    x = cv2.cvtColor(x, cv2.COLOR_BGR2RGB)\n",
    "    # 画像をTensor形式に変換します。つまりHWCをCHWに変換します。\n",
    "    x = x.transpose((2, 0, 1))\n",
    "    # float32に変換します。\n",
    "    x = torch.from_numpy(x).float()\n",
    "    # 正規化します。\n",
    "    x = normalize(x)\n",
    "    # GPUデバイスを利用します。\n",
    "    x = x.to(device)\n",
    "    # バッチ配列に変換します。\n",
    "    x = x[None, ...]\n",
    "    return x"
   ]
  },
  {
   "cell_type": "markdown",
   "metadata": {},
   "source": [
    "すばらしい、これでカメラ画像をニューラルネットワークの入力フォーマットに変換するための、pre-processing関数を定義できました。　\n",
    "\n",
    "次はカメラを使うので、一度カメラ用のデーモンを再起動しておきます。"
   ]
  },
  {
   "cell_type": "code",
   "execution_count": null,
   "metadata": {},
   "outputs": [],
   "source": [
    "!echo jetbot | sudo -S systemctl restart nvargus-daemon"
   ]
  },
  {
   "cell_type": "markdown",
   "metadata": {},
   "source": [
    "カメラを起動し、画面に表示します。また、`blocked`である確率を表示するスライダーを作成します。"
   ]
  },
  {
   "cell_type": "code",
   "execution_count": null,
   "metadata": {},
   "outputs": [],
   "source": [
    "import traitlets\n",
    "from IPython.display import display\n",
    "import ipywidgets.widgets as widgets\n",
    "from jetbot import Camera, bgr8_to_jpeg\n",
    "\n",
    "camera = Camera.instance(width=224, height=224, fps=10)\n",
    "image = widgets.Image(format='jpeg', width=224, height=224)\n",
    "blocked_slider = widgets.FloatSlider(description='blocked', min=0.0, max=1.0, orientation='vertical')\n",
    "\n",
    "camera_link = traitlets.dlink((camera, 'value'), (image, 'value'), transform=bgr8_to_jpeg)\n",
    "\n",
    "display(widgets.HBox([image, blocked_slider]))"
   ]
  },
  {
   "cell_type": "markdown",
   "metadata": {},
   "source": [
    "モーターを制御するためにrobotインスタンスを生成します。"
   ]
  },
  {
   "cell_type": "code",
   "execution_count": null,
   "metadata": {},
   "outputs": [],
   "source": [
    "from jetbot import Robot\n",
    "\n",
    "robot = Robot()"
   ]
  },
  {
   "cell_type": "markdown",
   "metadata": {},
   "source": [
    "次は、カメラの画像が更新されるたびに呼び出される関数を生成します。この関数は、下記ステップを実行します。\n",
    "\n",
    "1. カメラ画像をPre-processingにかけてモデル入力データに変換する\n",
    "2. モデル推論の実行\n",
    "3. 推論結果が50%以上の確率で`blocked`の場合は、左に曲がります。それ以外の場合は前進します。"
   ]
  },
  {
   "cell_type": "code",
   "execution_count": null,
   "metadata": {
    "scrolled": true
   },
   "outputs": [],
   "source": [
    "import torch.nn.functional as F\n",
    "import time\n",
    "\n",
    "def update(change):\n",
    "    global blocked_slider, robot\n",
    "    x = change['new'] \n",
    "    x = preprocess(x)\n",
    "    y = model(x)\n",
    "    \n",
    "    # we apply the `softmax` function to normalize the output vector so it sums to 1 (which makes it a probability distribution)\n",
    "    y = F.softmax(y, dim=1)\n",
    "    \n",
    "    prob_blocked = float(y.flatten()[0])\n",
    "    \n",
    "    blocked_slider.value = prob_blocked\n",
    "    \n",
    "    if prob_blocked < 0.5:\n",
    "        robot.forward(0.6)\n",
    "    else:\n",
    "        robot.left(0.6)\n",
    "    \n",
    "    time.sleep(0.001)"
   ]
  },
  {
   "cell_type": "markdown",
   "metadata": {},
   "source": [
    "モデル推論からJetBotの動作までを実行する関数を作成しました。  \n",
    "今度はそれをカメラと連動して処理する必要があります。\n",
    "\n",
    "JetBotでは、traitletsライブラリのSingletonConfigurableを継承した[Camera](https://github.com/NVIDIA-AI-IOT/jetbot/blob/master/jetbot/camera.py)クラスを実装することで実現しています。"
   ]
  },
  {
   "cell_type": "markdown",
   "metadata": {},
   "source": [
    "## JetBotを動かしてみよう\n",
    "次のコードで``start jetbot``ボタンと``stop jetbot``ボタンを作成します。  \n",
    "``start jetbot``ボタンを押すとモデルの初期化が実行され、JetBotが動作し始めます。  \n",
    "``stop jetbot``ボタンを押すとJetBotが停止します。  \n",
    "最初の1フレームの実行時にメモリの初期化が実行されるので、ディープラーニングではどんなモデルも最初の1フレームの処理はすこし時間がかかります。"
   ]
  },
  {
   "cell_type": "code",
   "execution_count": null,
   "metadata": {},
   "outputs": [],
   "source": [
    "import ipywidgets\n",
    "import time\n",
    "\n",
    "model_start_button = ipywidgets.Button(description='start jetbot')\n",
    "model_stop_button = ipywidgets.Button(description='stop jetbot')\n",
    "\n",
    "def start_model(c):\n",
    "    update({'new': camera.value})  \n",
    "    camera.observe(update, names='value')  # this attaches the 'update' function to the 'value' traitlet of our camera\n",
    "model_start_button.on_click(start_model)\n",
    "    \n",
    "def stop_model(c):\n",
    "    camera.unobserve(update, names='value')\n",
    "    time.sleep(1)\n",
    "    robot.stop()\n",
    "model_stop_button.on_click(stop_model)\n",
    "\n",
    "model_widget = ipywidgets.VBox([\n",
    "    ipywidgets.HBox([image, blocked_slider]),\n",
    "    ipywidgets.HBox([model_start_button, model_stop_button])\n",
    "])\n",
    "\n",
    "display(model_widget)"
   ]
  },
  {
   "cell_type": "markdown",
   "metadata": {},
   "source": [
    "やったね！JetBotが動作している場合、新しいカメラフレームごとに画像変換、モデル推論、JetBot制御処理が実行されています。\n",
    "\n",
    "あなたがデータセットを作ったコース上にJetBotを置いてください。そして障害物に到達したときの動作を確認する事ができるでしょう。"
   ]
  },
  {
   "cell_type": "markdown",
   "metadata": {},
   "source": [
    "### Conclusion\n",
    "\n",
    "以上がライブデモです。今はJetBotが衝突を回避しながら走行しているのではないでしょうか？　\n",
    "\n",
    "collision avoidanceが上手く行かない場合、正しく走行できるように失敗しやすい場所でさらにデータを追加してください。  \n",
    "このようにうまくいかない場所を中心にデータを収集すれば、JetBotはさらによく動作するはずです。"
   ]
  },
  {
   "cell_type": "markdown",
   "metadata": {},
   "source": [
    "### おまけ\n",
    "\n",
    "ResNet18のサンプルもあります。時間がまあった人は、``train_model_resnet18.ipynb``を実行し、resnet18モデルで学習してください。  ResNet18モデルは、続けてTensorRTモデルに変換して使うことができます。\n",
    "\n",
    "[train_model_resnet18.ipynb](./resnet18/train_model_resnet18.ipynb) をクリックし、移動します。"
   ]
  },
  {
   "cell_type": "code",
   "execution_count": null,
   "metadata": {},
   "outputs": [],
   "source": []
  }
 ],
 "metadata": {
  "kernelspec": {
   "display_name": "Python 3",
   "language": "python",
   "name": "python3"
  },
  "language_info": {
   "codemirror_mode": {
    "name": "ipython",
    "version": 3
   },
   "file_extension": ".py",
   "mimetype": "text/x-python",
   "name": "python",
   "nbconvert_exporter": "python",
   "pygments_lexer": "ipython3",
   "version": "3.6.9"
  }
 },
 "nbformat": 4,
 "nbformat_minor": 4
}
